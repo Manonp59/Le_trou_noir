{
 "cells": [
  {
   "attachments": {},
   "cell_type": "markdown",
   "metadata": {},
   "source": [
    "Jeu :\n",
    "une rencontre avec un être supérieur, qui nous barre l'accès d'un endroit.\n",
    "Le jeu consiste à répondre à des questions de la bonne manière.\n",
    "à chaque question, les modalités changent.\n",
    "Plus on avance dans le jeu, plus la difficulté augmente.\n",
    "à chaque étape, un element de notre réponse s'isole, pour au final créer la véritable énigme finale.\n"
   ]
  },
  {
   "attachments": {},
   "cell_type": "markdown",
   "metadata": {},
   "source": [
    "hello soldier welcome to the black hole Game \n",
    "your spaceship was lost in space \n",
    "to get back to earth you have to answer some questions .\n",
    "\n",
    "at each level we'll give you a question to answer if you cant answer our question you'll lose points as a start you'll be given (number of lives )\n",
    "and you have some bonus points hidden in the levels you'll get them for each correct answer.\n",
    "press P to Play\n",
    "Press Q to Quit \n",
    "Press H for Hint\n",
    "\n",
    "this game has (number of levels)\n",
    "Press S to Start \n",
    "\n"
   ]
  },
  {
   "attachments": {},
   "cell_type": "markdown",
   "metadata": {},
   "source": [
    "bonjour soldat bienvenue dans le jeu du trou noir\n",
    "votre vaisseau spatial a été perdu dans l'espace\n",
    "pour revenir sur terre, il faut répondre à quelques questions.\n",
    "\n",
    "à chaque niveau, nous vous donnerons une question à répondre si vous ne pouvez pas répondre à notre question, vous perdrez des points au début, vous recevrez (nombre de vies)\n",
    "et vous avez des points bonus cachés dans les niveaux que vous obtiendrez pour chaque bonne réponse.\n",
    "appuyez sur P pour jouer\n",
    "Appuyez sur Q pour quitter\n",
    "Appuyez sur H pour un indice\n",
    "\n",
    "ce jeu a (nombre de niveaux)\n",
    "\n",
    "\n"
   ]
  },
  {
   "attachments": {},
   "cell_type": "markdown",
   "metadata": {},
   "source": [
    "def game_start():\n",
    "    pass\n",
    "\n",
    "def access_passage ():\n",
    "    pass\n",
    "\n",
    "def health():\n",
    "    pass\n",
    "\n",
    "def bonus():\n",
    "    pass \n",
    "\n",
    "def log ():\n",
    "    pass\n",
    "\n",
    "def final_level():\n",
    "    pass\n",
    "\n",
    "\n",
    "correct_Answer = True \n",
    "false_Answer = False\n",
    "\n",
    "\n",
    "if player choice == \"P\" :\n",
    "    print(first question)\n",
    "\n",
    "for first_question:\n",
    "    if answer == correct_Answer:\n",
    "        print(\"correct answer let's go to level 2\")  \n",
    "    elif answer == false_Answer: \n",
    "        print(\"false answer try again\")\n",
    "        level = False\n",
    "\n",
    "for secound_question :\n",
    "    if answer == false_Answer:\n",
    "        print(\"false answer try again\")\n",
    "        level = false \n",
    "    elif answer == correct_Answer :\n",
    "        print(\"correct answer let's go to level 3\")\n",
    "        level +=1\n",
    "    else answer == \"None\":\n",
    "        life = life - random(range(A,B))\n",
    "\n",
    "\n"
   ]
  }
 ],
 "metadata": {
  "kernelspec": {
   "display_name": "Python 3",
   "language": "python",
   "name": "python3"
  },
  "language_info": {
   "name": "python",
   "version": "3.8.10 (default, Nov 14 2022, 12:59:47) \n[GCC 9.4.0]"
  },
  "orig_nbformat": 4,
  "vscode": {
   "interpreter": {
    "hash": "916dbcbb3f70747c44a77c7bcd40155683ae19c65e1c03b4aa3499c5328201f1"
   }
  }
 },
 "nbformat": 4,
 "nbformat_minor": 2
}
