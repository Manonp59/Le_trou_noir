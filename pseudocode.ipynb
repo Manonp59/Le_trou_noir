{
 "cells": [
  {
   "attachments": {},
   "cell_type": "markdown",
   "metadata": {},
   "source": [
    "Jeu :\n",
    "une rencontre avec un être supérieur, qui nous barre l'accès d'un endroit.\n",
    "Le jeu consiste à répondre à des questions de la bonne manière.\n",
    "à chaque question, les modalités changent.\n",
    "Plus on avance dans le jeu, plus la difficulté augmente.\n",
    "à chaque étape, un element de notre réponse s'isole, pour au final créer la véritable énigme finale.\n"
   ]
  }
 ],
 "metadata": {
  "language_info": {
   "name": "python"
  },
  "orig_nbformat": 4
 },
 "nbformat": 4,
 "nbformat_minor": 2
}
