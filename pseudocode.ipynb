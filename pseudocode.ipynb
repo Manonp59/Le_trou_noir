{
 "cells": [
  {
   "attachments": {},
   "cell_type": "markdown",
   "metadata": {},
   "source": [
    "jeu :\n",
    "une rencontre avec un être supérieur, qui nous barre l'acces d'un endroit.\n",
    "le jeu consiste a repondre a des questions de la bonne maniere.\n",
    "à chaque question, les modalites changent.\n",
    "plus on avance dans le jeu, plus la difficulte augmente.\n",
    "a chaque etape, un element de notre reponse s'isole, pour au final creer la veritable enigme finale.\n"
   ]
  }
 ],
 "metadata": {
  "language_info": {
   "name": "python"
  },
  "orig_nbformat": 4
 },
 "nbformat": 4,
 "nbformat_minor": 2
}
