{
 "cells": [
  {
   "attachments": {},
   "cell_type": "markdown",
   "metadata": {},
   "source": [
    "Jeu :\n",
    "une rencontre avec un être supérieur, qui nous barre l'accès d'un endroit.\n",
    "Le jeu consiste à répondre à des questions de la bonne manière.\n",
    "à chaque question, les modalités changent.\n",
    "Plus on avance dans le jeu, plus la difficulté augmente.\n",
    "à chaque étape, un element de notre réponse s'isole, pour au final créer la véritable énigme finale.\n"
   ]
  },
  {
   "attachments": {},
   "cell_type": "markdown",
   "metadata": {},
   "source": [
    "hello soldier welcome to the black hole Game \n",
    "your spaceship was lost in space \n",
    "to get back to earth you have to answer some questions .\n",
    "\n",
    "at each level we'll give you a question to answer if you cant answer our question you'll lose points as a start you'll be given (number of lives )\n",
    "and you have some bonus points hidden in the levels you'll get them for each correct answer.\n",
    "press P to Play\n",
    "Press Q to Quit \n",
    "Press H for Hint\n",
    "\n",
    "this game has (number of levels)\n",
    "Press S to Start \n",
    "\n"
   ]
  },
  {
   "attachments": {},
   "cell_type": "markdown",
   "metadata": {},
   "source": [
    "bonjour soldat bienvenue dans le jeu du trou noir\n",
    "votre vaisseau spatial a été perdu dans l'espace\n",
    "pour revenir sur terre, il faut répondre à quelques questions.\n",
    "\n",
    "à chaque niveau, nous vous donnerons une question à répondre si vous ne pouvez pas répondre à notre question, vous perdrez des points au début, vous recevrez (nombre de vies)\n",
    "et vous avez des points bonus cachés dans les niveaux que vous obtiendrez pour chaque bonne réponse.\n",
    "appuyez sur P pour jouer\n",
    "Appuyez sur Q pour quitter\n",
    "Appuyez sur H pour un indice\n",
    "\n",
    "ce jeu a (nombre de niveaux)\n",
    "\n",
    "\n"
   ]
  },
  {
   "attachments": {},
   "cell_type": "markdown",
   "metadata": {},
   "source": [
    "def game_start():\n",
    "    pass\n",
    "\n",
    "def access_passage ():\n",
    "    pass\n",
    "\n",
    "def health():\n",
    "    pass\n",
    "\n",
    "def bonus():\n",
    "    pass\n",
    "\n",
    "def log ():\n",
    "    pass\n",
    "\n",
    "def final_level():\n",
    "    pass\n",
    "\n",
    "\n",
    "\n",
    "if player choice = \"P\" :\n",
    "    print(first question)\n",
    "\n",
    "for first_question:\n",
    "    if answer = True:\n",
    "        print(\"correct answer let's go to level 2\")  \n",
    "    else:\n",
    "       print(\"false answer try again\")\n",
    "        level = false\n",
    "\n",
    "for secound_question :\n",
    "    if answer = \"A\" :\n",
    "        print(\"false answer try again\")\n",
    "        level = false \n",
    "    elif answer = \"B\" :\n",
    "        print(\"correct answer let's go to level 3\")\n",
    "        level +=1\n",
    "    else answer = \"none \":\n",
    "        life = life - random(range(A,B))\n",
    "\n",
    "for life:\n",
    "life = 100\n",
    "lost_life = 15\n",
    "win_life = 10\n",
    "if answer = True and life <100:\n",
    "    life + win_life\n",
    "else:\n",
    "    life - lost_life\n",
    "\n",
    "\n",
    "\n",
    "\n",
    "\n"
   ]
  }
 ],
 "metadata": {
  "kernelspec": {
   "display_name": "base",
   "language": "python",
   "name": "python3"
  },
  "language_info": {
   "name": "python",
   "version": "3.10.8 (main, Nov 24 2022, 14:13:03) [GCC 11.2.0]"
  },
  "orig_nbformat": 4,
  "vscode": {
   "interpreter": {
    "hash": "d25f34363254810493f69e19f8fea8925d807b842d2c9e5aec83143d940402f1"
   }
  }
 },
 "nbformat": 4,
 "nbformat_minor": 2
}
